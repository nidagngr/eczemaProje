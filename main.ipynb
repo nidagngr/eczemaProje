{
 "cells": [
  {
   "cell_type": "code",
   "execution_count": 3,
   "id": "063f0668",
   "metadata": {},
   "outputs": [],
   "source": [
    "import os\n",
    "import numpy as np\n",
    "import cv2\n",
    "import pandas as pd\n",
    "import matplotlib.pyplot as plt\n",
    "from sklearn.model_selection import train_test_split\n",
    "from sklearn.metrics import classification_report, accuracy_score\n",
    "from tensorflow.keras.models import Sequential, load_model\n",
    "from tensorflow.keras.layers import Conv2D, MaxPooling2D, Flatten, Dense, Dropout\n",
    "from tensorflow.keras.utils import to_categorical\n",
    "from tensorflow.keras.applications import MobileNetV2\n",
    "from tensorflow.keras.applications.mobilenet_v2 import preprocess_input\n",
    "from tensorflow.keras.preprocessing.image import img_to_array"
   ]
  },
  {
   "cell_type": "code",
   "execution_count": 4,
   "id": "c1663bd3",
   "metadata": {},
   "outputs": [],
   "source": [
    "img_size = 128\n",
    "data_dir = \"dataset\"\n",
    "categories = ['eczema', 'normal']\n",
    "results = []\n",
    "reports = {}"
   ]
  },
  {
   "cell_type": "code",
   "execution_count": 8,
   "id": "30e187e6",
   "metadata": {},
   "outputs": [
    {
     "name": "stdout",
     "output_type": "stream",
     "text": [
      "Veri yukleniyor...\n"
     ]
    }
   ],
   "source": [
    "# 3. Veriyi Yukle ve Isleme\n",
    "print(\"Veri yukleniyor...\")\n",
    "data = []\n",
    "labels = []\n",
    "for category in categories:\n",
    "    path = os.path.join(data_dir, category)\n",
    "    class_num = categories.index(category)\n",
    "    for img_name in os.listdir(path):\n",
    "        img_path = os.path.join(path, img_name)\n",
    "        img = cv2.imread(img_path)\n",
    "        if img is not None:\n",
    "            img = cv2.resize(img, (img_size, img_size))\n",
    "            data.append(img)\n",
    "            labels.append(class_num)\n",
    "\n",
    "data = np.array(data, dtype=\"float\") / 255.0\n",
    "labels = to_categorical(np.array(labels))\n",
    "\n",
    "# Veriyi eğitim ve test olarak ayır\n",
    "X_train, X_test, y_train, y_test = train_test_split(data, labels, test_size=0.2, random_state=42)\n"
   ]
  },
  {
   "cell_type": "code",
   "execution_count": 6,
   "id": "f4bf6049",
   "metadata": {},
   "outputs": [],
   "source": [
    "# 4. Veriyi Ayir\n",
    "X_train, X_test, y_train, y_test = train_test_split(data, labels, test_size=0.2, random_state=42)"
   ]
  },
  {
   "cell_type": "code",
   "execution_count": 15,
   "id": "12663cf4",
   "metadata": {},
   "outputs": [
    {
     "name": "stdout",
     "output_type": "stream",
     "text": [
      "Epoch 1/10\n",
      "79/79 [==============================] - 27s 324ms/step - loss: 0.2807 - accuracy: 0.9199 - val_loss: 0.3293 - val_accuracy: 0.8464\n",
      "Epoch 2/10\n",
      "79/79 [==============================] - 21s 272ms/step - loss: 0.0642 - accuracy: 0.9760 - val_loss: 0.0686 - val_accuracy: 0.9744\n",
      "Epoch 3/10\n",
      "79/79 [==============================] - 20s 258ms/step - loss: 0.0135 - accuracy: 0.9988 - val_loss: 0.0359 - val_accuracy: 0.9888\n",
      "Epoch 4/10\n",
      "79/79 [==============================] - 21s 268ms/step - loss: 0.0095 - accuracy: 0.9980 - val_loss: 0.0304 - val_accuracy: 0.9872\n",
      "Epoch 5/10\n",
      "79/79 [==============================] - 21s 270ms/step - loss: 0.0044 - accuracy: 0.9996 - val_loss: 0.0747 - val_accuracy: 0.9744\n",
      "Epoch 6/10\n",
      "79/79 [==============================] - 21s 261ms/step - loss: 0.0025 - accuracy: 0.9996 - val_loss: 0.0238 - val_accuracy: 0.9872\n",
      "Epoch 7/10\n",
      "79/79 [==============================] - 20s 254ms/step - loss: 0.0014 - accuracy: 1.0000 - val_loss: 0.0185 - val_accuracy: 0.9920\n",
      "Epoch 8/10\n",
      "79/79 [==============================] - 20s 258ms/step - loss: 6.4283e-04 - accuracy: 1.0000 - val_loss: 0.0180 - val_accuracy: 0.9920\n",
      "Epoch 9/10\n",
      "79/79 [==============================] - 21s 261ms/step - loss: 4.0168e-04 - accuracy: 1.0000 - val_loss: 0.0411 - val_accuracy: 0.9856\n",
      "Epoch 10/10\n",
      "79/79 [==============================] - 20s 257ms/step - loss: 3.4277e-04 - accuracy: 1.0000 - val_loss: 0.0292 - val_accuracy: 0.9888\n",
      "20/20 [==============================] - 1s 45ms/step\n"
     ]
    },
    {
     "name": "stderr",
     "output_type": "stream",
     "text": [
      "c:\\Users\\asus\\AppData\\Local\\Programs\\Python\\Python38\\lib\\site-packages\\keras\\src\\engine\\training.py:3000: UserWarning: You are saving your model as an HDF5 file via `model.save()`. This file format is considered legacy. We recommend using instead the native Keras format, e.g. `model.save('my_model.keras')`.\n",
      "  saving_api.save_model(\n"
     ]
    }
   ],
   "source": [
    "# 5. Model 1: Basit CNN\n",
    "model1 = Sequential([\n",
    "    Conv2D(32, (3,3), activation='relu', input_shape=(img_size,img_size,3)),\n",
    "    MaxPooling2D(2,2),\n",
    "    Flatten(),\n",
    "    Dense(64, activation='relu'),\n",
    "    Dense(2, activation='softmax')\n",
    "])\n",
    "model1.compile(optimizer='adam', loss='categorical_crossentropy', metrics=['accuracy'])\n",
    "model1.fit(X_train, y_train, epochs=10, validation_data=(X_test, y_test))\n",
    "pred1 = np.argmax(model1.predict(X_test), axis=1)\n",
    "true1 = np.argmax(y_test, axis=1)\n",
    "acc1 = accuracy_score(true1, pred1)\n",
    "results.append([\"Model 1 - Simple CNN\", acc1])\n",
    "reports[\"Model 1 - Simple CNN\"] = classification_report(true1, pred1, target_names=categories, output_dict=True)\n",
    "model1.save(\"models/model1_simple_cnn.h5\")"
   ]
  },
  {
   "cell_type": "code",
   "execution_count": 16,
   "id": "16c14686",
   "metadata": {},
   "outputs": [
    {
     "name": "stdout",
     "output_type": "stream",
     "text": [
      "Model 1 doğruluk: 0.9888\n"
     ]
    }
   ],
   "source": [
    "print(\"Model 1 doğruluk:\", acc1)\n"
   ]
  },
  {
   "cell_type": "code",
   "execution_count": 17,
   "id": "62f8e512",
   "metadata": {},
   "outputs": [
    {
     "data": {
      "image/png": "[encoded data removed]",
      "text/plain": [
       "<Figure size 600x400 with 1 Axes>"
      ]
     },
     "metadata": {},
     "output_type": "display_data"
    }
   ],
   "source": [
    "import matplotlib.pyplot as plt\n",
    "\n",
    "# Model 1 doğruluk bilgisini örnek olarak kullanıyoruz\n",
    "results = [[\"Model 1 - Simple CNN\", acc1]]\n",
    "\n",
    "# DataFrame ile tablo yap\n",
    "import pandas as pd\n",
    "df_results = pd.DataFrame(results, columns=[\"Model\", \"Accuracy\"])\n",
    "\n",
    "# Grafik oluştur\n",
    "plt.figure(figsize=(6, 4))\n",
    "plt.bar(df_results[\"Model\"], df_results[\"Accuracy\"])\n",
    "plt.ylim(0, 1)\n",
    "plt.title(\"Model 1 Doğruluk Oranı\")\n",
    "plt.ylabel(\"Accuracy\")\n",
    "plt.grid(axis='y')\n",
    "plt.tight_layout()\n",
    "plt.show()\n"
   ]
  },
  {
   "cell_type": "code",
   "execution_count": 18,
   "id": "9d553b7e",
   "metadata": {},
   "outputs": [
    {
     "name": "stdout",
     "output_type": "stream",
     "text": [
      "Epoch 1/10\n",
      "79/79 [==============================] - 39s 468ms/step - loss: 0.3416 - accuracy: 0.8779 - val_loss: 0.1017 - val_accuracy: 0.9600\n",
      "Epoch 2/10\n",
      "79/79 [==============================] - 32s 410ms/step - loss: 0.1208 - accuracy: 0.9556 - val_loss: 0.0984 - val_accuracy: 0.9568\n",
      "Epoch 3/10\n",
      "79/79 [==============================] - 32s 410ms/step - loss: 0.0883 - accuracy: 0.9680 - val_loss: 0.1650 - val_accuracy: 0.9264\n",
      "Epoch 4/10\n",
      "79/79 [==============================] - 32s 407ms/step - loss: 0.0662 - accuracy: 0.9764 - val_loss: 0.0613 - val_accuracy: 0.9808\n",
      "Epoch 5/10\n",
      "79/79 [==============================] - 32s 406ms/step - loss: 0.0652 - accuracy: 0.9776 - val_loss: 0.1045 - val_accuracy: 0.9584\n",
      "Epoch 6/10\n",
      "79/79 [==============================] - 34s 432ms/step - loss: 0.0332 - accuracy: 0.9872 - val_loss: 0.0478 - val_accuracy: 0.9792\n",
      "Epoch 7/10\n",
      "79/79 [==============================] - 33s 420ms/step - loss: 0.0329 - accuracy: 0.9868 - val_loss: 0.0772 - val_accuracy: 0.9728\n",
      "Epoch 8/10\n",
      "79/79 [==============================] - 32s 410ms/step - loss: 0.0257 - accuracy: 0.9912 - val_loss: 0.0443 - val_accuracy: 0.9888\n",
      "Epoch 9/10\n",
      "79/79 [==============================] - 33s 414ms/step - loss: 0.0195 - accuracy: 0.9940 - val_loss: 0.0610 - val_accuracy: 0.9792\n",
      "Epoch 10/10\n",
      "79/79 [==============================] - 32s 411ms/step - loss: 0.0217 - accuracy: 0.9908 - val_loss: 0.0790 - val_accuracy: 0.9728\n",
      "20/20 [==============================] - 2s 75ms/step\n"
     ]
    },
    {
     "name": "stderr",
     "output_type": "stream",
     "text": [
      "c:\\Users\\asus\\AppData\\Local\\Programs\\Python\\Python38\\lib\\site-packages\\keras\\src\\engine\\training.py:3000: UserWarning: You are saving your model as an HDF5 file via `model.save()`. This file format is considered legacy. We recommend using instead the native Keras format, e.g. `model.save('my_model.keras')`.\n",
      "  saving_api.save_model(\n"
     ]
    }
   ],
   "source": [
    "# 6. Model 2: Daha Derin CNN\n",
    "model2 = Sequential([\n",
    "    Conv2D(32, (3,3), activation='relu', input_shape=(img_size,img_size,3)),\n",
    "    MaxPooling2D(2,2),\n",
    "    Conv2D(64, (3,3), activation='relu'),\n",
    "    MaxPooling2D(2,2),\n",
    "    Flatten(),\n",
    "    Dense(128, activation='relu'),\n",
    "    Dropout(0.5),\n",
    "    Dense(2, activation='softmax')\n",
    "])\n",
    "model2.compile(optimizer='adam', loss='categorical_crossentropy', metrics=['accuracy'])\n",
    "model2.fit(X_train, y_train, epochs=10, validation_data=(X_test, y_test))\n",
    "pred2 = np.argmax(model2.predict(X_test), axis=1)\n",
    "true2 = np.argmax(y_test, axis=1)\n",
    "acc2 = accuracy_score(true2, pred2)\n",
    "results.append([\"Model 2 - Deep CNN\", acc2])\n",
    "reports[\"Model 2 - Deep CNN\"] = classification_report(true2, pred2, target_names=categories, output_dict=True)\n",
    "model2.save(\"models/model2_deep_cnn.h5\")"
   ]
  },
  {
   "cell_type": "code",
   "execution_count": 19,
   "id": "78cfb39a",
   "metadata": {},
   "outputs": [
    {
     "name": "stdout",
     "output_type": "stream",
     "text": [
      "Model 2 doğruluk: 0.9728\n"
     ]
    }
   ],
   "source": [
    "print(\"Model 2 doğruluk:\", acc2)"
   ]
  },
  {
   "cell_type": "code",
   "execution_count": 20,
   "id": "e31dd02a",
   "metadata": {},
   "outputs": [
    {
     "data": {
      "image/png": "[encoded data removed]",
      "text/plain": [
       "<Figure size 600x400 with 1 Axes>"
      ]
     },
     "metadata": {},
     "output_type": "display_data"
    }
   ],
   "source": [
    "import matplotlib.pyplot as plt\n",
    "import pandas as pd\n",
    "\n",
    "# Örnek: sadece model 2'nin sonucu\n",
    "results = [[\"Model 2 - Deep CNN\", acc2]]\n",
    "df_results = pd.DataFrame(results, columns=[\"Model\", \"Accuracy\"])\n",
    "\n",
    "plt.figure(figsize=(6, 4))\n",
    "plt.bar(df_results[\"Model\"], df_results[\"Accuracy\"])\n",
    "plt.ylim(0, 1)\n",
    "plt.title(\"Model 2 Doğruluk Oranı\")\n",
    "plt.ylabel(\"Accuracy\")\n",
    "plt.grid(axis='y')\n",
    "plt.tight_layout()\n",
    "plt.show()\n"
   ]
  },
  {
   "cell_type": "code",
   "execution_count": 9,
   "id": "c03522ec",
   "metadata": {},
   "outputs": [
    {
     "name": "stdout",
     "output_type": "stream",
     "text": [
      "Epoch 1/50\n",
      "79/79 [==============================] - 28s 319ms/step - loss: 0.1267 - accuracy: 0.9509 - val_loss: 0.0690 - val_accuracy: 0.9778\n",
      "Epoch 2/50\n",
      "79/79 [==============================] - 25s 311ms/step - loss: 0.0378 - accuracy: 0.9861 - val_loss: 0.0555 - val_accuracy: 0.9810\n",
      "Epoch 3/50\n",
      "79/79 [==============================] - 24s 304ms/step - loss: 0.0430 - accuracy: 0.9818 - val_loss: 0.0574 - val_accuracy: 0.9810\n",
      "Epoch 4/50\n",
      "79/79 [==============================] - 24s 303ms/step - loss: 0.0366 - accuracy: 0.9869 - val_loss: 0.0447 - val_accuracy: 0.9873\n",
      "Epoch 5/50\n",
      "79/79 [==============================] - 24s 310ms/step - loss: 0.0185 - accuracy: 0.9941 - val_loss: 0.0603 - val_accuracy: 0.9778\n",
      "Epoch 6/50\n",
      "79/79 [==============================] - 23s 296ms/step - loss: 0.0231 - accuracy: 0.9913 - val_loss: 0.0512 - val_accuracy: 0.9842\n",
      "Epoch 7/50\n",
      "79/79 [==============================] - 24s 300ms/step - loss: 0.0244 - accuracy: 0.9901 - val_loss: 0.0410 - val_accuracy: 0.9921\n",
      "Epoch 8/50\n",
      "79/79 [==============================] - 24s 298ms/step - loss: 0.0292 - accuracy: 0.9913 - val_loss: 0.0517 - val_accuracy: 0.9889\n",
      "Epoch 9/50\n",
      "79/79 [==============================] - 24s 300ms/step - loss: 0.0134 - accuracy: 0.9956 - val_loss: 0.0493 - val_accuracy: 0.9842\n",
      "Epoch 10/50\n",
      "79/79 [==============================] - 24s 309ms/step - loss: 0.0171 - accuracy: 0.9921 - val_loss: 0.0499 - val_accuracy: 0.9858\n",
      "Epoch 11/50\n",
      "79/79 [==============================] - 25s 317ms/step - loss: 0.0167 - accuracy: 0.9941 - val_loss: 0.0624 - val_accuracy: 0.9858\n",
      "Epoch 12/50\n",
      "79/79 [==============================] - 24s 298ms/step - loss: 0.0149 - accuracy: 0.9945 - val_loss: 0.0582 - val_accuracy: 0.9826\n",
      "20/20 [==============================] - 5s 216ms/step\n",
      "Model başarıyla eğitimle ve veri artırımı ile kaydedildi.\n",
      "                               Model  Accuracy\n",
      "0  Model 3 - MobileNetV2 (augmented)  0.992089\n"
     ]
    },
    {
     "name": "stderr",
     "output_type": "stream",
     "text": [
      "c:\\Users\\asus\\AppData\\Local\\Programs\\Python\\Python38\\lib\\site-packages\\keras\\src\\engine\\training.py:3000: UserWarning: You are saving your model as an HDF5 file via `model.save()`. This file format is considered legacy. We recommend using instead the native Keras format, e.g. `model.save('my_model.keras')`.\n",
      "  saving_api.save_model(\n"
     ]
    }
   ],
   "source": [
    "from tensorflow.keras.applications.mobilenet_v2 import MobileNetV2, preprocess_input\n",
    "from tensorflow.keras.models import Sequential, load_model\n",
    "from tensorflow.keras.layers import Dense, Dropout\n",
    "from tensorflow.keras.callbacks import EarlyStopping\n",
    "from tensorflow.keras.preprocessing.image import ImageDataGenerator\n",
    "from sklearn.metrics import accuracy_score, classification_report\n",
    "import numpy as np\n",
    "import pandas as pd\n",
    "import cv2\n",
    "\n",
    "# Ayarlar\n",
    "img_size = 128\n",
    "categories = ['eczema', 'normal']\n",
    "results = []\n",
    "reports = {}\n",
    "\n",
    "# 1. Eğitim verisini MobileNetV2 için hazırla\n",
    "X_train_pre = preprocess_input(X_train * 255.0)\n",
    "X_test_pre = preprocess_input(X_test * 255.0)\n",
    "\n",
    "# 2. Veri Çeşitlendirme (Augmentation)\n",
    "datagen = ImageDataGenerator(\n",
    "    rotation_range=20,\n",
    "    zoom_range=0.2,\n",
    "    width_shift_range=0.1,\n",
    "    height_shift_range=0.1,\n",
    "    horizontal_flip=True,\n",
    "    fill_mode='nearest'\n",
    ")\n",
    "datagen.fit(X_train_pre)\n",
    "\n",
    "# 3. Modeli oluştur\n",
    "base_model = MobileNetV2(include_top=False, input_shape=(img_size, img_size, 3), pooling='avg', weights='imagenet')\n",
    "base_model.trainable = False\n",
    "\n",
    "model3 = Sequential([\n",
    "    base_model,\n",
    "    Dense(128, activation='relu'),\n",
    "    Dropout(0.5),\n",
    "    Dense(2, activation='softmax')\n",
    "])\n",
    "\n",
    "# 4. Derle\n",
    "model3.compile(optimizer='adam', loss='categorical_crossentropy', metrics=['accuracy'])\n",
    "\n",
    "# 5. EarlyStopping tanımla\n",
    "early_stop = EarlyStopping(monitor='val_loss', patience=5, restore_best_weights=True)\n",
    "\n",
    "# 6. Eğit (augmentation ile)\n",
    "model3.fit(\n",
    "    datagen.flow(X_train_pre, y_train, batch_size=32),\n",
    "    epochs=50,\n",
    "    validation_data=(X_test_pre, y_test),\n",
    "    callbacks=[early_stop]\n",
    ")\n",
    "\n",
    "# 7. Tahmin yap\n",
    "pred3 = np.argmax(model3.predict(X_test_pre), axis=1)\n",
    "true3 = np.argmax(y_test, axis=1)\n",
    "acc3 = accuracy_score(true3, pred3)\n",
    "\n",
    "# 8. Raporla ve kaydet\n",
    "results.append([\"Model 3 - MobileNetV2 (augmented)\", acc3])\n",
    "reports[\"Model 3 - MobileNetV2 (augmented)\"] = classification_report(true3, pred3, target_names=categories, output_dict=True)\n",
    "\n",
    "df_results = pd.DataFrame(results, columns=[\"Model\", \"Accuracy\"])\n",
    "df_results.to_csv(\"results/model_performance.csv\", index=False)\n",
    "\n",
    "report_df = pd.DataFrame()\n",
    "for model_name, report in reports.items():\n",
    "    temp_df = pd.DataFrame(report).T\n",
    "    temp_df[\"Model\"] = model_name\n",
    "    report_df = pd.concat([report_df, temp_df])\n",
    "report_df.to_csv(\"results/classification_reports.csv\")\n",
    "\n",
    "# 9. Modeli kaydet\n",
    "model3.save(\"models/model3_mobilenetv2.h5\")\n",
    "print(\"Model başarıyla eğitimle ve veri artırımı ile kaydedildi.\")\n",
    "print(df_results)\n"
   ]
  },
  {
   "cell_type": "code",
   "execution_count": 26,
   "id": "e07516d8",
   "metadata": {},
   "outputs": [],
   "source": [
    "model3.save(\"models/model3_mobilenetv2.h5\")\n"
   ]
  },
  {
   "cell_type": "code",
   "execution_count": 10,
   "id": "d1cb3df6",
   "metadata": {},
   "outputs": [
    {
     "name": "stdout",
     "output_type": "stream",
     "text": [
      "Model 3 doğruluk: 0.9920886075949367\n"
     ]
    }
   ],
   "source": [
    "print(\"Model 3 doğruluk:\", acc3)"
   ]
  },
  {
   "cell_type": "code",
   "execution_count": 23,
   "id": "01026b21",
   "metadata": {},
   "outputs": [
    {
     "data": {
      "image/png": "[encoded data removed]",
      "text/plain": [
       "<Figure size 600x400 with 1 Axes>"
      ]
     },
     "metadata": {},
     "output_type": "display_data"
    }
   ],
   "source": [
    "import matplotlib.pyplot as plt\n",
    "import pandas as pd\n",
    "\n",
    "# Model 3 doğruluğu zaten hesaplandı: acc3\n",
    "results = [[\"Model 3 - MobileNetV2\", acc3]]\n",
    "df_results = pd.DataFrame(results, columns=[\"Model\", \"Accuracy\"])\n",
    "\n",
    "# Grafik çiz\n",
    "plt.figure(figsize=(6, 4))\n",
    "plt.bar(df_results[\"Model\"], df_results[\"Accuracy\"])\n",
    "plt.ylim(0, 1)\n",
    "plt.title(\"Model 3 Doğruluk Oranı\")\n",
    "plt.ylabel(\"Accuracy\")\n",
    "plt.grid(axis='y')\n",
    "plt.tight_layout()\n",
    "plt.show()\n"
   ]
  },
  {
   "cell_type": "code",
   "execution_count": 24,
   "id": "43e29447",
   "metadata": {},
   "outputs": [
    {
     "name": "stdout",
     "output_type": "stream",
     "text": [
      "En iyi model: Model 3 - MobileNetV2 -> models/model1_mobilenetv2.h5\n"
     ]
    }
   ],
   "source": [
    "# 8. En Iyi Modeli Sec ve Kaydet\n",
    "df_results = pd.DataFrame(results, columns=[\"Model\", \"Accuracy\"])\n",
    "df_results.to_csv(\"results/model_performance.csv\", index=False)\n",
    "report_df = pd.DataFrame()\n",
    "for model_name, report in reports.items():\n",
    "    temp_df = pd.DataFrame(report).T\n",
    "    temp_df[\"Model\"] = model_name\n",
    "    report_df = pd.concat([report_df, temp_df])\n",
    "report_df.to_csv(\"results/classification_reports.csv\")\n",
    "\n",
    "best_model_index = df_results[\"Accuracy\"].idxmax()\n",
    "best_model_name = df_results.iloc[best_model_index, 0]\n",
    "best_model_path = f\"models/model{best_model_index+1}_\" + best_model_name.split(\" - \")[1].lower().replace(\" \", \"\") + \".h5\"\n",
    "print(f\"En iyi model: {best_model_name} -> {best_model_path}\")"
   ]
  }
 ],
 "metadata": {
  "kernelspec": {
   "display_name": "Python 3",
   "language": "python",
   "name": "python3"
  },
  "language_info": {
   "codemirror_mode": {
    "name": "ipython",
    "version": 3
   },
   "file_extension": ".py",
   "mimetype": "text/x-python",
   "name": "python",
   "nbconvert_exporter": "python",
   "pygments_lexer": "ipython3",
   "version": "3.8.0"
  }
 },
 "nbformat": 4,
 "nbformat_minor": 5
}
